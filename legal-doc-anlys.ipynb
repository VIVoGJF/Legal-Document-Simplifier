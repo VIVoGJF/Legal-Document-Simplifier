{
 "cells": [
  {
   "cell_type": "code",
   "execution_count": 71,
   "id": "c2cadefb",
   "metadata": {},
   "outputs": [],
   "source": [
    "import re\n",
    "import spacy\n",
    "import pdfplumber\n",
    "from sumy.parsers.plaintext import PlaintextParser\n",
    "from sumy.nlp.tokenizers import Tokenizer\n",
    "from sumy.summarizers.lsa import LsaSummarizer\n",
    "from reportlab.platypus import SimpleDocTemplate, Paragraph, Spacer\n",
    "from reportlab.lib.styles import getSampleStyleSheet\n",
    "import google.generativeai as genai\n",
    "import json\n"
   ]
  },
  {
   "cell_type": "code",
   "execution_count": 72,
   "id": "e760bcb4",
   "metadata": {},
   "outputs": [],
   "source": [
    "nlp = spacy.load(\"en_core_web_sm\")"
   ]
  },
  {
   "cell_type": "code",
   "execution_count": 73,
   "id": "d75d83f3",
   "metadata": {},
   "outputs": [],
   "source": [
    "def load_api_keys(path=\"C:\\\\Users\\\\Vivek\\\\Desktop\\\\Programs\\\\Projects\\\\Legal-Document-Simplifier\\\\key.txt\"):\n",
    "    with open(path, \"r\") as f:\n",
    "        return [line.strip() for line in f if line.strip()]\n",
    "\n",
    "class GeminiKeyManager:\n",
    "    def __init__(self, path=\"C:\\\\Users\\\\Vivek\\\\Desktop\\\\Programs\\\\Projects\\\\Legal-Document-Simplifier\\\\key.txt\"):\n",
    "        self.keys = load_api_keys(path)\n",
    "        self.index = 0\n",
    "        self.configure_client()\n",
    "\n",
    "    def configure_client(self):\n",
    "        genai.configure(api_key=self.keys[self.index])\n",
    "        self.model = genai.GenerativeModel(\"gemini-1.5-flash\")\n",
    "\n",
    "    def rotate_key(self):\n",
    "        self.index = (self.index + 1) % len(self.keys)\n",
    "        self.configure_client()\n",
    "        print(f\"Switched to API key #{self.index+1}\")\n",
    "\n",
    "    def safe_generate(self, prompt):\n",
    "        try:\n",
    "            response = self.model.generate_content(prompt)\n",
    "            return response\n",
    "        except Exception as e:\n",
    "            print(f\"Error with key #{self.index+1}: {e}\")\n",
    "            self.rotate_key()\n",
    "            # retry once with new key\n",
    "            return self.model.generate_content(prompt)\n",
    "\n",
    "gemini_keys = GeminiKeyManager()\n"
   ]
  },
  {
   "cell_type": "code",
   "execution_count": 74,
   "id": "e94c9ebb",
   "metadata": {},
   "outputs": [],
   "source": [
    "def extract_text(pdf_file):\n",
    "    text = \"\"\n",
    "    with pdfplumber.open(pdf_file) as pdf:\n",
    "        for page in pdf.pages:\n",
    "            extracted = page.extract_text()\n",
    "            if extracted:\n",
    "                text += extracted + \"\\n\"\n",
    "    return text"
   ]
  },
  {
   "cell_type": "code",
   "execution_count": 75,
   "id": "97bbda47",
   "metadata": {},
   "outputs": [],
   "source": [
    "def summarize_document(text, sentence_count=7):\n",
    "    parser = PlaintextParser.from_string(text, Tokenizer(\"english\"))\n",
    "    summarizer = LsaSummarizer()\n",
    "    summary_sentences = summarizer(parser.document, sentence_count)\n",
    "    return \"\\n\".join(str(s) for s in summary_sentences)"
   ]
  },
  {
   "cell_type": "code",
   "execution_count": 76,
   "id": "60c5b281",
   "metadata": {},
   "outputs": [],
   "source": [
    "def extract_entities(text):\n",
    "    doc = nlp(text)\n",
    "    entities = {\n",
    "        \"Parties\": [ent.text for ent in doc.ents if ent.label_ in [\"ORG\", \"PERSON\"]],\n",
    "        \"Dates\": [ent.text for ent in doc.ents if ent.label_ == \"DATE\"],\n",
    "        \"Money\": [ent.text for ent in doc.ents if ent.label_ == \"MONEY\"],\n",
    "        \"Obligations\": re.findall(\n",
    "            r\"\\b(shall|must|agree to|responsible for)\\b.*?\\.\",\n",
    "            text,\n",
    "            flags=re.IGNORECASE,\n",
    "        ),\n",
    "    }\n",
    "    return entities\n",
    "\n"
   ]
  },
  {
   "cell_type": "code",
   "execution_count": 77,
   "id": "91c0e10f",
   "metadata": {},
   "outputs": [],
   "source": [
    "def analyze_risks(text):\n",
    "    risks = []\n",
    "    risk_keywords = {\n",
    "        \"Late Payments / Financial Penalties\": r\"late fee|penalt(y|ies)|interest|default in payment|overdue|delayed payment\",\n",
    "        \"Termination & Breach\": r\"termination|breach of contract|void|cancellation|material breach|contract violation\",\n",
    "        \"Confidentiality & Disclosure\": r\"disclosure|confidential|nda|non-disclosure|trade secret\",\n",
    "        \"Liability & Indemnification\": r\"liable|indemnif(y|ication)|responsibility|hold harmless|compensation liability\",\n",
    "        \"Intellectual Property Risks\": r\"intellectual property|copyright|patent|trademark|IP rights|proprietary|design rights\",\n",
    "        \"Dispute Resolution (Indian Context)\": r\"arbitration|jurisdiction|venue|dispute resolution|litigation|mediation|conciliation\",\n",
    "        \"Damages & Remedies\": r\"damages|compensation|losses|remedies|consequential damages|punitive damages|specific performance\",\n",
    "        \"Defamation / Reputation\": r\"defamation|reputation|libel|slander|character assassination\",\n",
    "        \"Automatic Renewal\": r\"auto-?renewal|automatic renewal|renewal term|extension of contract\",\n",
    "        \"Legal Fees & Costs\": r\"advocate fees|legal fees|court costs|litigation expenses\",\n",
    "        \"Employment / Labour Risks\": r\"non-compete|non compete|non-solicit|non solicit|employee|employment|labour|industrial dispute\",\n",
    "        \"Governing Law / Jurisdiction (India)\": r\"governing law|laws of India|Indian Penal Code|IPC|jurisdiction of.*India|court of.*India|Supreme Court|High Court|Arbitration and Conciliation Act\",\n",
    "    }\n",
    "    for risk, pattern in risk_keywords.items():\n",
    "        if re.search(pattern, text, flags=re.IGNORECASE):\n",
    "            risks.append(risk)\n",
    "\n",
    "    return risks if risks else [\"No obvious risks detected\"]\n"
   ]
  },
  {
   "cell_type": "code",
   "execution_count": 78,
   "id": "dbdd7525",
   "metadata": {},
   "outputs": [],
   "source": [
    "def enhance_with_gemini(summary, entities, risks):\n",
    "    prompt = f\"\"\"\n",
    "    You are a legal assistant.\n",
    "\n",
    "    Here are extracted details from a legal document:\n",
    "\n",
    "    --- Summary ---\n",
    "    {summary}\n",
    "\n",
    "    --- Entities ---\n",
    "    {entities}\n",
    "\n",
    "    --- Risks ---\n",
    "    {risks}\n",
    "\n",
    "    Task:\n",
    "    1. Fix grammar and improve readability of the summary.\n",
    "    2. Add a \"suggestion\" field (1–3 sentences of advice).\n",
    "    3. Return a single JSON with keys:\n",
    "       - summary\n",
    "       - parties\n",
    "       - date/time(\n",
    "           mention context of a specific date/time with format \"<b>context:</b> Value\"\n",
    "           example: \n",
    "                <b>Age of the cat:</b> 7 months\n",
    "                <b>Date of the incident:</b> 2022-01-01\n",
    "                <b>Document valid until:</b> 2023-01-01\n",
    "            if any number is not a valid date with context unrelated to date/time, do not include it\n",
    "            )\n",
    "       - money/penalties\n",
    "       - obligations\n",
    "       - risks (string with multiple lines. Each risk must be formatted as:  \n",
    "            \"<b>• Risk Name</b>: Risk description(1line) asper Indian law\" \n",
    "            with each risk on a new line, separated by <br/> inside the JSON string)\n",
    "       - suggestion\n",
    "    ONLY return valid JSON. Do not include triple backticks or any extra text.\n",
    "    the entities (parties, date/time, money/penalties, obligations) as well as risks should return plain text, not inside [].\n",
    "    if data is not available for any of the fields,return few words that might be relevant insted of none.\n",
    "    \"\"\"\n",
    "    response = gemini_keys.safe_generate(prompt)\n",
    "    result = response.text.strip()\n",
    "\n",
    "    # Remove ```json ... ``` wrappers if present\n",
    "    if result.startswith(\"```\"):\n",
    "        result = re.sub(r\"^```(?:json)?\", \"\", result.strip(), flags=re.IGNORECASE).strip()\n",
    "        result = re.sub(r\"```$\", \"\", result).strip()\n",
    "\n",
    "    return result"
   ]
  },
  {
   "cell_type": "code",
   "execution_count": 79,
   "id": "70052317",
   "metadata": {},
   "outputs": [],
   "source": [
    "def save_json_to_pdf(json_str, filename=\"legal_analysis.pdf\"):\n",
    "    try:\n",
    "        data = json.loads(json_str)\n",
    "    except:\n",
    "        print(\"Gemini response not valid JSON. Saving raw text.\")\n",
    "        data = {\"raw_output\": json_str}\n",
    "\n",
    "    doc = SimpleDocTemplate(filename)\n",
    "    styles = getSampleStyleSheet()\n",
    "    flow = [Paragraph(\"AI Legal Document Analysis\", styles[\"Title\"]), Spacer(1, 20)]\n",
    "\n",
    "    for key, value in data.items():\n",
    "        flow.append(Paragraph(f\"<b>{key.title()}:</b>\", styles[\"Heading3\"]))\n",
    "        flow.append(Spacer(1, 6))\n",
    "        flow.append(Paragraph(str(value), styles[\"Normal\"]))\n",
    "        flow.append(Spacer(1, 12))\n",
    "\n",
    "    doc.build(flow)\n",
    "    print(f\"✅ Saved: {filename}\")\n"
   ]
  },
  {
   "cell_type": "code",
   "execution_count": 80,
   "id": "bb94534c",
   "metadata": {},
   "outputs": [],
   "source": [
    "def process_documents(pdf_files):\n",
    "    for pdf_file in pdf_files:\n",
    "        print(f\"\\nProcessing: {pdf_file}\\n{'-'*50}\")\n",
    "        text = extract_text(pdf_file)\n",
    "\n",
    "        # Offline processing\n",
    "        summary = summarize_document(text)\n",
    "        entities = extract_entities(text)\n",
    "        risks = analyze_risks(text)\n",
    "\n",
    "        print(\"Offline Summary/Entities/Risks ready.\")\n",
    "\n",
    "        # Gemini enhancement\n",
    "        json_result = enhance_with_gemini(summary, entities, risks)\n",
    "        print(\"Gemini JSON Result:\\n\", json_result[:400], \"...\\n\")\n",
    "\n",
    "        # Save PDF\n",
    "        save_json_to_pdf(json_result, filename=f\"{pdf_file[:-4]}_analysis.pdf\")\n"
   ]
  },
  {
   "cell_type": "code",
   "execution_count": 81,
   "id": "97573bf6",
   "metadata": {},
   "outputs": [
    {
     "name": "stdout",
     "output_type": "stream",
     "text": [
      "\n",
      "Processing: C:\\Users\\Vivek\\Desktop\\Programs\\Projects\\Legal-Document-Simplifier\\silver_certf.pdf\n",
      "--------------------------------------------------\n",
      "Offline Summary/Entities/Risks ready.\n",
      "Gemini JSON Result:\n",
      " {\n",
      "  \"summary\": \"This certificate confirms that Dr. Millon Rout (VCI Regd No. 10371) examined Silver, a seven-month-old female Persian cat owned by Mr. Amritansh Panigrahi of Bhubaneswar, Odisha (phone: 6371719825).  The examination revealed Silver to be free from infection or contagious disease and in apparent good health.  Silver is fully vaccinated for her age; vaccination records are attached.  ...\n",
      "\n",
      "✅ Saved: C:\\Users\\Vivek\\Desktop\\Programs\\Projects\\Legal-Document-Simplifier\\silver_certf_analysis.pdf\n"
     ]
    }
   ],
   "source": [
    "pdf_files = [r\"C:\\Users\\Vivek\\Desktop\\Programs\\Projects\\Legal-Document-Simplifier\\silver_certf.pdf\"]  # Replace with your PDFs\n",
    "process_documents(pdf_files)"
   ]
  }
 ],
 "metadata": {
  "kernelspec": {
   "display_name": "Python 3",
   "language": "python",
   "name": "python3"
  },
  "language_info": {
   "codemirror_mode": {
    "name": "ipython",
    "version": 3
   },
   "file_extension": ".py",
   "mimetype": "text/x-python",
   "name": "python",
   "nbconvert_exporter": "python",
   "pygments_lexer": "ipython3",
   "version": "3.13.3"
  }
 },
 "nbformat": 4,
 "nbformat_minor": 5
}
